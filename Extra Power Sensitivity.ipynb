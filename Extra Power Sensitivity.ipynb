{
 "cells": [
  {
   "cell_type": "code",
   "execution_count": 10,
   "id": "8cc55103",
   "metadata": {},
   "outputs": [],
   "source": [
    "import pandas as pd\n",
    "import numpy as np\n",
    "import matplotlib.pyplot as plt"
   ]
  },
  {
   "cell_type": "code",
   "execution_count": 11,
   "id": "dc95f35b",
   "metadata": {},
   "outputs": [],
   "source": [
    "path = \"./sims/extra_power/\"\n",
    "scales = np.linspace(1,3,9)"
   ]
  },
  {
   "cell_type": "code",
   "execution_count": 12,
   "id": "09b5acdf",
   "metadata": {},
   "outputs": [
    {
     "data": {
      "text/plain": [
       "array([1.  , 1.25, 1.5 , 1.75, 2.  , 2.25, 2.5 , 2.75, 3.  ])"
      ]
     },
     "execution_count": 12,
     "metadata": {},
     "output_type": "execute_result"
    }
   ],
   "source": [
    "scales"
   ]
  },
  {
   "cell_type": "code",
   "execution_count": 13,
   "id": "ae181319",
   "metadata": {},
   "outputs": [],
   "source": [
    "means = []\n",
    "var = []\n",
    "for s in scales:\n",
    "    dfs = []\n",
    "    m = []\n",
    "    v = []\n",
    "    for i in range(10):\n",
    "        filename = path + \"extra_power_{}_{}\".format(round(s,2),i)\n",
    "        dfs.append(pd.read_csv(filename, names=['total_cost', 'true_demand', 'demand_sd', '2x_sup_sd', 'ren_sup', 'rem_demand']))\n",
    "        try:\n",
    "            dfs[i] = dfs[i].drop(730)\n",
    "        except:\n",
    "            pass\n",
    "        dfs[i][\"total_cost\"] = pd.to_numeric(dfs[i][\"total_cost\"], downcast=\"float\")\n",
    "        dfs[i]['avg_cost'] = dfs[i]['total_cost'] / dfs[i]['true_demand']\n",
    "        m.append(dfs[i]['avg_cost'].mean())\n",
    "        v.append((dfs[i]['avg_cost'].var()))\n",
    "    m = np.array(m)\n",
    "    v = np.array(v)\n",
    "    means.append(m.mean())\n",
    "    var.append(v.mean())\n"
   ]
  },
  {
   "cell_type": "code",
   "execution_count": 14,
   "id": "91a0bd3a",
   "metadata": {},
   "outputs": [
    {
     "data": {
      "text/plain": [
       "[70.03060021328405,\n",
       " 74.97694186376911,\n",
       " 83.39598779606666,\n",
       " 90.17082574844866,\n",
       " 104.24278995375332,\n",
       " 117.51351924897992,\n",
       " 127.60681512187709,\n",
       " 150.9088300884562,\n",
       " 203.13597381983445]"
      ]
     },
     "execution_count": 14,
     "metadata": {},
     "output_type": "execute_result"
    }
   ],
   "source": [
    "var"
   ]
  },
  {
   "cell_type": "code",
   "execution_count": null,
   "id": "ddd127c7",
   "metadata": {},
   "outputs": [],
   "source": []
  },
  {
   "cell_type": "code",
   "execution_count": 15,
   "id": "0c6fabf3",
   "metadata": {},
   "outputs": [
    {
     "data": {
      "image/png": "[encoded data removed]",
      "text/plain": [
       "<Figure size 432x288 with 1 Axes>"
      ]
     },
     "metadata": {
      "needs_background": "light"
     },
     "output_type": "display_data"
    }
   ],
   "source": [
    "fig,ax = plt.subplots()\n",
    "ax.bar(np.arange(9),means,tick_label=[round(x,2) for x in scales])\n",
    "ax.set_xticklabels([round(x,2) for x in scales], rotation=30, ha='right')\n",
    "ax.set_xlabel(\"Backup power to buy (# std. deviations from prediction)\")\n",
    "ax.set_ylabel(\"Mean Price ($/MWh)\")\n",
    "plt.savefig(\"extra_power_vs_avg_price_sensitivity.png\")"
   ]
  },
  {
   "cell_type": "code",
   "execution_count": 16,
   "id": "6a417987",
   "metadata": {},
   "outputs": [
    {
     "data": {
      "image/png": "[encoded data removed]",
      "text/plain": [
       "<Figure size 432x288 with 1 Axes>"
      ]
     },
     "metadata": {
      "needs_background": "light"
     },
     "output_type": "display_data"
    }
   ],
   "source": [
    "fig,ax = plt.subplots()\n",
    "ax.bar(np.arange(9),var,tick_label=[round(x,2) for x in scales])\n",
    "ax.set_xticklabels([round(x,2) for x in scales], rotation=30, ha='right')\n",
    "ax.set_xlabel(\"Backup power to buy (# std. deviations from prediction)\")\n",
    "ax.set_ylabel(\"Price Variance ($/MWh)\")\n",
    "plt.savefig(\"extra_power_vs_price_variance_sensitivity.png\")"
   ]
  },
  {
   "cell_type": "code",
   "execution_count": null,
   "id": "7f7922d6",
   "metadata": {},
   "outputs": [],
   "source": []
  }
 ],
 "metadata": {
  "kernelspec": {
   "display_name": "Python 3 (ipykernel)",
   "language": "python",
   "name": "python3"
  },
  "language_info": {
   "codemirror_mode": {
    "name": "ipython",
    "version": 3
   },
   "file_extension": ".py",
   "mimetype": "text/x-python",
   "name": "python",
   "nbconvert_exporter": "python",
   "pygments_lexer": "ipython3",
   "version": "3.7.12"
  }
 },
 "nbformat": 4,
 "nbformat_minor": 5
}
