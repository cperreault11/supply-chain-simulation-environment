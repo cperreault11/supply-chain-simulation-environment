{
 "cells": [
  {
   "cell_type": "code",
   "execution_count": null,
   "id": "af96f603",
   "metadata": {},
   "outputs": [],
   "source": [
    "from scse.main import miniSCOTnotebook\n",
    "import numpy as np\n",
    "import pandas as pd\n",
    "import sys"
   ]
  },
  {
   "cell_type": "code",
   "execution_count": null,
   "id": "051bd99c",
   "metadata": {},
   "outputs": [],
   "source": [
    "m = miniSCOTnotebook()"
   ]
  },
  {
   "cell_type": "code",
   "execution_count": null,
   "id": "d88334a1",
   "metadata": {},
   "outputs": [],
   "source": [
    "run_params={\n",
    "    'time_horizon':730,\n",
    "    'extra_power': 2,\n",
    "    #'flexible_capacity': 2500000,\n",
    "    'static_capacity': 5500000,\n",
    "    'renewable_scale': 2500000,\n",
    "}"
   ]
  },
  {
   "cell_type": "code",
   "execution_count": null,
   "id": "e87a4e97",
   "metadata": {},
   "outputs": [],
   "source": [
    "flexible_scales = np.linspace(.1,.7,13)"
   ]
  },
  {
   "cell_type": "code",
   "execution_count": null,
   "id": "2613fefc",
   "metadata": {},
   "outputs": [],
   "source": [
    "flexible_scales = [round(x,2) for x in flexible_scales]"
   ]
  },
  {
   "cell_type": "code",
   "execution_count": null,
   "id": "01a2221c",
   "metadata": {},
   "outputs": [],
   "source": [
    "num_runs = 10\n",
    "path = \"./sims/flexible_scales/\"\n",
    "market_demand = 7000000"
   ]
  },
  {
   "cell_type": "code",
   "execution_count": null,
   "id": "299841a6",
   "metadata": {},
   "outputs": [],
   "source": [
    "for s in flexible_scales:\n",
    "    for i in range(num_runs):\n",
    "        sys.stdout = open(path + \"flexible_{}_{}\".format(s,i),'w')\n",
    "        run_params['flexible_capacity'] = market_demand * s\n",
    "        m.start(**run_params)\n",
    "        m.run()"
   ]
  },
  {
   "cell_type": "code",
   "execution_count": null,
   "id": "ac1f401c",
   "metadata": {},
   "outputs": [],
   "source": []
  }
 ],
 "metadata": {
  "kernelspec": {
   "display_name": "Python 3 (ipykernel)",
   "language": "python",
   "name": "python3"
  },
  "language_info": {
   "codemirror_mode": {
    "name": "ipython",
    "version": 3
   },
   "file_extension": ".py",
   "mimetype": "text/x-python",
   "name": "python",
   "nbconvert_exporter": "python",
   "pygments_lexer": "ipython3",
   "version": "3.7.12"
  }
 },
 "nbformat": 4,
 "nbformat_minor": 5
}
