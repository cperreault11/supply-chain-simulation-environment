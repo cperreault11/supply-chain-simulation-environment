{
 "cells": [
  {
   "cell_type": "code",
   "execution_count": 1,
   "id": "8cc55103",
   "metadata": {},
   "outputs": [],
   "source": [
    "import pandas as pd\n",
    "import numpy as np\n",
    "import matplotlib.pyplot as plt"
   ]
  },
  {
   "cell_type": "code",
   "execution_count": 2,
   "id": "dc95f35b",
   "metadata": {},
   "outputs": [],
   "source": [
    "path = \"./sims/flexible_scales/\"\n",
    "scales = np.linspace(0.1,0.5,9)"
   ]
  },
  {
   "cell_type": "code",
   "execution_count": 3,
   "id": "09b5acdf",
   "metadata": {},
   "outputs": [
    {
     "data": {
      "text/plain": [
       "array([0.1 , 0.15, 0.2 , 0.25, 0.3 , 0.35, 0.4 , 0.45, 0.5 ])"
      ]
     },
     "execution_count": 3,
     "metadata": {},
     "output_type": "execute_result"
    }
   ],
   "source": [
    "scales"
   ]
  },
  {
   "cell_type": "code",
   "execution_count": 5,
   "id": "ae181319",
   "metadata": {},
   "outputs": [],
   "source": [
    "means = []\n",
    "var = []\n",
    "for s in scales:\n",
    "    dfs = []\n",
    "    m = []\n",
    "    v = []\n",
    "    for i in range(10):\n",
    "        filename = path + \"flexible_{}_{}\".format(round(s,2),i)\n",
    "        dfs.append(pd.read_csv(filename, names=['total_cost', 'true_demand', 'demand_sd', '2x_sup_sd', 'ren_sup', 'rem_demand']))\n",
    "        try:\n",
    "            dfs[i] = dfs[i].drop(730)\n",
    "        except:\n",
    "            pass\n",
    "        dfs[i][\"total_cost\"] = pd.to_numeric(dfs[i][\"total_cost\"], downcast=\"float\")\n",
    "        dfs[i]['avg_cost'] = dfs[i]['total_cost'] / dfs[i]['true_demand']\n",
    "        m.append(dfs[i]['avg_cost'].mean())\n",
    "        v.append((dfs[i]['avg_cost'].var()))\n",
    "    m = np.array(m)\n",
    "    v = np.array(v)\n",
    "    means.append(m.mean())\n",
    "    var.append(v.mean())\n"
   ]
  },
  {
   "cell_type": "code",
   "execution_count": 6,
   "id": "91a0bd3a",
   "metadata": {},
   "outputs": [
    {
     "data": {
      "text/plain": [
       "[94.79825566680952,\n",
       " 83.59550673703487,\n",
       " 76.84223080526297,\n",
       " 68.8120192341126,\n",
       " 58.7148644993991,\n",
       " 50.25020390577315,\n",
       " 32.33294455095236,\n",
       " 23.954699262392545,\n",
       " 13.464365188064244]"
      ]
     },
     "execution_count": 6,
     "metadata": {},
     "output_type": "execute_result"
    }
   ],
   "source": [
    "var"
   ]
  },
  {
   "cell_type": "code",
   "execution_count": 8,
   "id": "0c6fabf3",
   "metadata": {},
   "outputs": [
    {
     "data": {
      "text/plain": [
       "<BarContainer object of 9 artists>"
      ]
     },
     "execution_count": 8,
     "metadata": {},
     "output_type": "execute_result"
    },
    {
     "data": {
      "image/png": "[encoded data removed]",
      "text/plain": [
       "<Figure size 432x288 with 1 Axes>"
      ]
     },
     "metadata": {
      "needs_background": "light"
     },
     "output_type": "display_data"
    }
   ],
   "source": [
    "plt.bar(np.arange(9),means)"
   ]
  },
  {
   "cell_type": "code",
   "execution_count": 9,
   "id": "6a417987",
   "metadata": {},
   "outputs": [
    {
     "data": {
      "text/plain": [
       "<BarContainer object of 9 artists>"
      ]
     },
     "execution_count": 9,
     "metadata": {},
     "output_type": "execute_result"
    },
    {
     "data": {
      "image/png": "[encoded data removed]",
      "text/plain": [
       "<Figure size 432x288 with 1 Axes>"
      ]
     },
     "metadata": {
      "needs_background": "light"
     },
     "output_type": "display_data"
    }
   ],
   "source": [
    "plt.bar(np.arange(9),var)"
   ]
  },
  {
   "cell_type": "code",
   "execution_count": null,
   "id": "7f7922d6",
   "metadata": {},
   "outputs": [],
   "source": []
  }
 ],
 "metadata": {
  "kernelspec": {
   "display_name": "Python 3 (ipykernel)",
   "language": "python",
   "name": "python3"
  },
  "language_info": {
   "codemirror_mode": {
    "name": "ipython",
    "version": 3
   },
   "file_extension": ".py",
   "mimetype": "text/x-python",
   "name": "python",
   "nbconvert_exporter": "python",
   "pygments_lexer": "ipython3",
   "version": "3.7.12"
  }
 },
 "nbformat": 4,
 "nbformat_minor": 5
}
