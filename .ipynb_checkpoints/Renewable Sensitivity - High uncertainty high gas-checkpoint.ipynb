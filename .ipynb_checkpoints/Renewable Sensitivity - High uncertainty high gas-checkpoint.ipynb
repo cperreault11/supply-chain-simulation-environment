{
 "cells": [
  {
   "cell_type": "code",
   "execution_count": 1,
   "id": "8cc55103",
   "metadata": {},
   "outputs": [],
   "source": [
    "import pandas as pd\n",
    "import numpy as np\n",
    "import matplotlib.pyplot as plt"
   ]
  },
  {
   "cell_type": "code",
   "execution_count": 2,
   "id": "dc95f35b",
   "metadata": {},
   "outputs": [],
   "source": [
    "path = \"./sims/renewable_scales_high_gas/\"\n",
    "scales = np.linspace(0.1,0.7,13)"
   ]
  },
  {
   "cell_type": "code",
   "execution_count": 3,
   "id": "09b5acdf",
   "metadata": {},
   "outputs": [
    {
     "data": {
      "text/plain": [
       "array([0.1 , 0.15, 0.2 , 0.25, 0.3 , 0.35, 0.4 , 0.45, 0.5 , 0.55, 0.6 ,\n",
       "       0.65, 0.7 ])"
      ]
     },
     "execution_count": 3,
     "metadata": {},
     "output_type": "execute_result"
    }
   ],
   "source": [
    "scales"
   ]
  },
  {
   "cell_type": "code",
   "execution_count": 4,
   "id": "ae181319",
   "metadata": {},
   "outputs": [],
   "source": [
    "means = []\n",
    "var = []\n",
    "for s in scales:\n",
    "    dfs = []\n",
    "    m = []\n",
    "    v = []\n",
    "    for i in range(10):\n",
    "        filename = path + \"renewable_hg_{}_{}\".format(round(s,2),i)\n",
    "        dfs.append(pd.read_csv(filename, names=['total_cost', 'true_demand', 'demand_sd', '2x_sup_sd', 'ren_sup', 'rem_demand']))\n",
    "        try:\n",
    "            dfs[i] = dfs[i].drop(730)\n",
    "        except:\n",
    "            pass\n",
    "        dfs[i][\"total_cost\"] = pd.to_numeric(dfs[i][\"total_cost\"], downcast=\"float\")\n",
    "        dfs[i]['avg_cost'] = dfs[i]['total_cost'] / dfs[i]['true_demand']\n",
    "        m.append(dfs[i]['avg_cost'].mean())\n",
    "        v.append((dfs[i]['avg_cost'].var()))\n",
    "    m = np.array(m)\n",
    "    v = np.array(v)\n",
    "    means.append(m.mean())\n",
    "    var.append(v.mean())\n"
   ]
  },
  {
   "cell_type": "code",
   "execution_count": 8,
   "id": "91a0bd3a",
   "metadata": {},
   "outputs": [
    {
     "data": {
      "text/plain": [
       "[96.74209132693754,\n",
       " 94.45557956869555,\n",
       " 92.64337598738771,\n",
       " 90.39131092494127,\n",
       " 88.20012708811646,\n",
       " 86.06027082918175,\n",
       " 84.23209369172895,\n",
       " 82.41972151702072,\n",
       " 80.58767761380852,\n",
       " 78.88618322747132,\n",
       " 77.82466515645494,\n",
       " 76.19173333611153,\n",
       " 74.52519933286528]"
      ]
     },
     "execution_count": 8,
     "metadata": {},
     "output_type": "execute_result"
    }
   ],
   "source": [
    "means"
   ]
  },
  {
   "cell_type": "code",
   "execution_count": 6,
   "id": "0c6fabf3",
   "metadata": {},
   "outputs": [
    {
     "data": {
      "text/plain": [
       "<BarContainer object of 13 artists>"
      ]
     },
     "execution_count": 6,
     "metadata": {},
     "output_type": "execute_result"
    },
    {
     "data": {
      "image/png": "[encoded data removed]",
      "text/plain": [
       "<Figure size 432x288 with 1 Axes>"
      ]
     },
     "metadata": {
      "needs_background": "light"
     },
     "output_type": "display_data"
    }
   ],
   "source": [
    "plt.bar(np.arange(13),means)"
   ]
  },
  {
   "cell_type": "code",
   "execution_count": 7,
   "id": "6a417987",
   "metadata": {},
   "outputs": [
    {
     "data": {
      "text/plain": [
       "<BarContainer object of 13 artists>"
      ]
     },
     "execution_count": 7,
     "metadata": {},
     "output_type": "execute_result"
    },
    {
     "data": {
      "image/png": "[encoded data removed]",
      "text/plain": [
       "<Figure size 432x288 with 1 Axes>"
      ]
     },
     "metadata": {
      "needs_background": "light"
     },
     "output_type": "display_data"
    }
   ],
   "source": [
    "plt.bar(np.arange(13),var)"
   ]
  },
  {
   "cell_type": "code",
   "execution_count": 9,
   "id": "7d0aab3e",
   "metadata": {},
   "outputs": [
    {
     "data": {
      "text/plain": [
       "0.0"
      ]
     },
     "execution_count": 9,
     "metadata": {},
     "output_type": "execute_result"
    }
   ],
   "source": [
    "dfs[0]['ren_sup'].mean()"
   ]
  },
  {
   "cell_type": "code",
   "execution_count": null,
   "id": "7a0a44d8",
   "metadata": {},
   "outputs": [],
   "source": []
  }
 ],
 "metadata": {
  "kernelspec": {
   "display_name": "Python 3 (ipykernel)",
   "language": "python",
   "name": "python3"
  },
  "language_info": {
   "codemirror_mode": {
    "name": "ipython",
    "version": 3
   },
   "file_extension": ".py",
   "mimetype": "text/x-python",
   "name": "python",
   "nbconvert_exporter": "python",
   "pygments_lexer": "ipython3",
   "version": "3.7.12"
  }
 },
 "nbformat": 4,
 "nbformat_minor": 5
}
